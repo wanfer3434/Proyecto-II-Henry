{
 "cells": [
  {
   "cell_type": "code",
   "execution_count": 9,
   "metadata": {},
   "outputs": [],
   "source": [
    "import pandas as pd\n",
    "homicidios_df = pd.read_excel(\"homicidios.xlsx\")"
   ]
  },
  {
   "cell_type": "code",
   "execution_count": 10,
   "metadata": {},
   "outputs": [
    {
     "data": {
      "text/plain": [
       "ID                         0\n",
       "N_VICTIMAS                 0\n",
       "FECHA                      0\n",
       "AAAA                       0\n",
       "MM                         0\n",
       "DD                         0\n",
       "HORA                       0\n",
       "HH                         0\n",
       "LUGAR_DEL_HECHO            0\n",
       "TIPO_DE_CALLE              0\n",
       "Calle                      1\n",
       "Altura                   567\n",
       "Cruce                    171\n",
       "Dirección Normalizada      8\n",
       "COMUNA                     0\n",
       "XY (CABA)                  0\n",
       "pos x                      0\n",
       "pos y                      0\n",
       "PARTICIPANTES              0\n",
       "VICTIMA                    0\n",
       "ACUSADO                    0\n",
       "dtype: int64"
      ]
     },
     "execution_count": 10,
     "metadata": {},
     "output_type": "execute_result"
    }
   ],
   "source": [
    "homicidios_df.isnull().sum()"
   ]
  },
  {
   "cell_type": "code",
   "execution_count": 11,
   "metadata": {},
   "outputs": [],
   "source": [
    "# Imputar el valor más frecuente\n",
    "altura_mode = homicidios_df['Altura'].mode()[0]\n",
    "homicidios_df['Altura'].fillna(altura_mode, inplace=True)"
   ]
  },
  {
   "cell_type": "code",
   "execution_count": 12,
   "metadata": {},
   "outputs": [
    {
     "data": {
      "text/plain": [
       "ID                         0\n",
       "N_VICTIMAS                 0\n",
       "FECHA                      0\n",
       "AAAA                       0\n",
       "MM                         0\n",
       "DD                         0\n",
       "HORA                       0\n",
       "HH                         0\n",
       "LUGAR_DEL_HECHO            0\n",
       "TIPO_DE_CALLE              0\n",
       "Calle                      1\n",
       "Altura                     0\n",
       "Cruce                    171\n",
       "Dirección Normalizada      8\n",
       "COMUNA                     0\n",
       "XY (CABA)                  0\n",
       "pos x                      0\n",
       "pos y                      0\n",
       "PARTICIPANTES              0\n",
       "VICTIMA                    0\n",
       "ACUSADO                    0\n",
       "dtype: int64"
      ]
     },
     "execution_count": 12,
     "metadata": {},
     "output_type": "execute_result"
    }
   ],
   "source": [
    "homicidios_df.isnull().sum()"
   ]
  },
  {
   "cell_type": "code",
   "execution_count": 6,
   "metadata": {},
   "outputs": [],
   "source": [
    "# Imputar el valor más frecuente\n",
    "altura_mode = homicidios_df['Cruce'].mode()[0]\n",
    "homicidios_df['Cruce'].fillna(altura_mode, inplace=True)"
   ]
  },
  {
   "cell_type": "code",
   "execution_count": 7,
   "metadata": {},
   "outputs": [
    {
     "data": {
      "text/plain": [
       "ID                       0\n",
       "N_VICTIMAS               0\n",
       "FECHA                    0\n",
       "AAAA                     0\n",
       "MM                       0\n",
       "DD                       0\n",
       "HORA                     0\n",
       "HH                       0\n",
       "LUGAR_DEL_HECHO          0\n",
       "TIPO_DE_CALLE            0\n",
       "Calle                    1\n",
       "Altura                   0\n",
       "Cruce                    0\n",
       "Dirección Normalizada    8\n",
       "COMUNA                   0\n",
       "XY (CABA)                0\n",
       "pos x                    0\n",
       "pos y                    0\n",
       "PARTICIPANTES            0\n",
       "VICTIMA                  0\n",
       "ACUSADO                  0\n",
       "dtype: int64"
      ]
     },
     "execution_count": 7,
     "metadata": {},
     "output_type": "execute_result"
    }
   ],
   "source": [
    "homicidios_df.isnull().sum()"
   ]
  },
  {
   "cell_type": "code",
   "execution_count": null,
   "metadata": {},
   "outputs": [],
   "source": [
    "# Renombrar la columna 'id' en homicidios_df\n",
    "homicidios_df.rename(columns={'id': 'id'}, inplace=True)\n",
    "\n",
    "# Unir los DataFrames utilizando la columna 'id'\n",
    "tabla_final = pd.merge(lesiones_df, homicidios_df, on='id', how='inner')"
   ]
  },
  {
   "cell_type": "code",
   "execution_count": 14,
   "metadata": {},
   "outputs": [
    {
     "name": "stdout",
     "output_type": "stream",
     "text": [
      "<class 'pandas.core.frame.DataFrame'>\n",
      "RangeIndex: 696 entries, 0 to 695\n",
      "Data columns (total 21 columns):\n",
      " #   Column                 Non-Null Count  Dtype         \n",
      "---  ------                 --------------  -----         \n",
      " 0   ID                     696 non-null    object        \n",
      " 1   N_VICTIMAS             696 non-null    int64         \n",
      " 2   FECHA                  696 non-null    datetime64[ns]\n",
      " 3   AAAA                   696 non-null    int64         \n",
      " 4   MM                     696 non-null    int64         \n",
      " 5   DD                     696 non-null    int64         \n",
      " 6   HORA                   696 non-null    object        \n",
      " 7   HH                     696 non-null    object        \n",
      " 8   LUGAR_DEL_HECHO        696 non-null    object        \n",
      " 9   TIPO_DE_CALLE          696 non-null    object        \n",
      " 10  Calle                  695 non-null    object        \n",
      " 11  Altura                 696 non-null    float64       \n",
      " 12  Cruce                  525 non-null    object        \n",
      " 13  Dirección Normalizada  688 non-null    object        \n",
      " 14  COMUNA                 696 non-null    int64         \n",
      " 15  XY (CABA)              696 non-null    object        \n",
      " 16  pos x                  696 non-null    object        \n",
      " 17  pos y                  696 non-null    object        \n",
      " 18  PARTICIPANTES          696 non-null    object        \n",
      " 19  VICTIMA                696 non-null    object        \n",
      " 20  ACUSADO                696 non-null    object        \n",
      "dtypes: datetime64[ns](1), float64(1), int64(5), object(14)\n",
      "memory usage: 114.3+ KB\n"
     ]
    }
   ],
   "source": [
    "homicidios_df.info()"
   ]
  },
  {
   "cell_type": "code",
   "execution_count": 15,
   "metadata": {},
   "outputs": [],
   "source": [
    "homicidios_df.columns = homicidios_df.columns.str.lower()\n"
   ]
  },
  {
   "cell_type": "code",
   "execution_count": 17,
   "metadata": {},
   "outputs": [
    {
     "name": "stdout",
     "output_type": "stream",
     "text": [
      "<class 'pandas.core.frame.DataFrame'>\n",
      "RangeIndex: 696 entries, 0 to 695\n",
      "Data columns (total 21 columns):\n",
      " #   Column                 Non-Null Count  Dtype         \n",
      "---  ------                 --------------  -----         \n",
      " 0   id                     696 non-null    object        \n",
      " 1   n_victimas             696 non-null    int64         \n",
      " 2   fecha                  696 non-null    datetime64[ns]\n",
      " 3   aaaa                   696 non-null    int64         \n",
      " 4   mm                     696 non-null    int64         \n",
      " 5   dd                     696 non-null    int64         \n",
      " 6   hora                   696 non-null    object        \n",
      " 7   hh                     696 non-null    object        \n",
      " 8   lugar_del_hecho        696 non-null    object        \n",
      " 9   tipo_de_calle          696 non-null    object        \n",
      " 10  calle                  695 non-null    object        \n",
      " 11  altura                 696 non-null    float64       \n",
      " 12  cruce                  525 non-null    object        \n",
      " 13  dirección normalizada  688 non-null    object        \n",
      " 14  comuna                 696 non-null    int64         \n",
      " 15  xy (caba)              696 non-null    object        \n",
      " 16  pos x                  696 non-null    object        \n",
      " 17  pos y                  696 non-null    object        \n",
      " 18  participantes          696 non-null    object        \n",
      " 19  victima                696 non-null    object        \n",
      " 20  acusado                696 non-null    object        \n",
      "dtypes: datetime64[ns](1), float64(1), int64(5), object(14)\n",
      "memory usage: 114.3+ KB\n"
     ]
    }
   ],
   "source": [
    "homicidios_df.info()"
   ]
  },
  {
   "cell_type": "code",
   "execution_count": 18,
   "metadata": {},
   "outputs": [
    {
     "name": "stdout",
     "output_type": "stream",
     "text": [
      "Nombres de las columnas de homicidios_df: ['id', 'n_victimas', 'fecha', 'aaaa', 'mm', 'dd', 'hora', 'hh', 'lugar_del_hecho', 'tipo_de_calle', 'calle', 'altura', 'cruce', 'dirección normalizada', 'comuna', 'xy (caba)', 'pos x', 'pos y', 'participantes', 'victima', 'acusado']\n"
     ]
    }
   ],
   "source": [
    "# Obtener los nombres de las columnas de homicidios_df\n",
    "nombres_columnas_homicidios = homicidios_df.columns.tolist()\n",
    "\n",
    "# Imprimir los nombres de las columnas\n",
    "print(\"Nombres de las columnas de homicidios_df:\", nombres_columnas_homicidios)\n"
   ]
  },
  {
   "cell_type": "code",
   "execution_count": 19,
   "metadata": {},
   "outputs": [],
   "source": [
    "homicidios_df.to_csv('homicidios_etl.csv', index=False)"
   ]
  },
  {
   "cell_type": "code",
   "execution_count": 20,
   "metadata": {},
   "outputs": [
    {
     "name": "stdout",
     "output_type": "stream",
     "text": [
      "<class 'pandas.core.frame.DataFrame'>\n",
      "RangeIndex: 696 entries, 0 to 695\n",
      "Data columns (total 21 columns):\n",
      " #   Column                 Non-Null Count  Dtype         \n",
      "---  ------                 --------------  -----         \n",
      " 0   id                     696 non-null    object        \n",
      " 1   n_victimas             696 non-null    int64         \n",
      " 2   fecha                  696 non-null    datetime64[ns]\n",
      " 3   aaaa                   696 non-null    int64         \n",
      " 4   mm                     696 non-null    int64         \n",
      " 5   dd                     696 non-null    int64         \n",
      " 6   hora                   696 non-null    object        \n",
      " 7   hh                     696 non-null    object        \n",
      " 8   lugar_del_hecho        696 non-null    object        \n",
      " 9   tipo_de_calle          696 non-null    object        \n",
      " 10  calle                  695 non-null    object        \n",
      " 11  altura                 696 non-null    float64       \n",
      " 12  cruce                  525 non-null    object        \n",
      " 13  dirección normalizada  688 non-null    object        \n",
      " 14  comuna                 696 non-null    int64         \n",
      " 15  xy (caba)              696 non-null    object        \n",
      " 16  pos x                  696 non-null    object        \n",
      " 17  pos y                  696 non-null    object        \n",
      " 18  participantes          696 non-null    object        \n",
      " 19  victima                696 non-null    object        \n",
      " 20  acusado                696 non-null    object        \n",
      "dtypes: datetime64[ns](1), float64(1), int64(5), object(14)\n",
      "memory usage: 114.3+ KB\n"
     ]
    }
   ],
   "source": [
    "homicidios_df.info()"
   ]
  },
  {
   "cell_type": "code",
   "execution_count": 23,
   "metadata": {},
   "outputs": [
    {
     "data": {
      "text/html": [
       "<div>\n",
       "<style scoped>\n",
       "    .dataframe tbody tr th:only-of-type {\n",
       "        vertical-align: middle;\n",
       "    }\n",
       "\n",
       "    .dataframe tbody tr th {\n",
       "        vertical-align: top;\n",
       "    }\n",
       "\n",
       "    .dataframe thead th {\n",
       "        text-align: right;\n",
       "    }\n",
       "</style>\n",
       "<table border=\"1\" class=\"dataframe\">\n",
       "  <thead>\n",
       "    <tr style=\"text-align: right;\">\n",
       "      <th></th>\n",
       "      <th>id</th>\n",
       "      <th>n_victimas</th>\n",
       "      <th>fecha</th>\n",
       "      <th>aaaa</th>\n",
       "      <th>mm</th>\n",
       "      <th>dd</th>\n",
       "      <th>hora</th>\n",
       "      <th>hh</th>\n",
       "      <th>lugar_del_hecho</th>\n",
       "      <th>tipo_de_calle</th>\n",
       "      <th>...</th>\n",
       "      <th>altura</th>\n",
       "      <th>cruce</th>\n",
       "      <th>dirección normalizada</th>\n",
       "      <th>comuna</th>\n",
       "      <th>xy (caba)</th>\n",
       "      <th>pos x</th>\n",
       "      <th>pos y</th>\n",
       "      <th>participantes</th>\n",
       "      <th>victima</th>\n",
       "      <th>acusado</th>\n",
       "    </tr>\n",
       "  </thead>\n",
       "  <tbody>\n",
       "    <tr>\n",
       "      <th>693</th>\n",
       "      <td>2021-0095</td>\n",
       "      <td>1</td>\n",
       "      <td>2021-12-30</td>\n",
       "      <td>2021</td>\n",
       "      <td>12</td>\n",
       "      <td>30</td>\n",
       "      <td>00:43:00</td>\n",
       "      <td>0</td>\n",
       "      <td>AV. GAONA Y TERRADA</td>\n",
       "      <td>AVENIDA</td>\n",
       "      <td>...</td>\n",
       "      <td>365.0</td>\n",
       "      <td>TERRADA</td>\n",
       "      <td>GAONA AV. y TERRADA</td>\n",
       "      <td>11</td>\n",
       "      <td>Point (99116.45492358 101045.23284826)</td>\n",
       "      <td>-58.47293407</td>\n",
       "      <td>-34.61984745</td>\n",
       "      <td>MOTO-CARGAS</td>\n",
       "      <td>MOTO</td>\n",
       "      <td>CARGAS</td>\n",
       "    </tr>\n",
       "    <tr>\n",
       "      <th>694</th>\n",
       "      <td>2021-0096</td>\n",
       "      <td>1</td>\n",
       "      <td>2021-12-15</td>\n",
       "      <td>2021</td>\n",
       "      <td>12</td>\n",
       "      <td>15</td>\n",
       "      <td>10:30:00</td>\n",
       "      <td>10</td>\n",
       "      <td>AV. EVA PERON 4071</td>\n",
       "      <td>AVENIDA</td>\n",
       "      <td>...</td>\n",
       "      <td>4071.0</td>\n",
       "      <td>NaN</td>\n",
       "      <td>PERON, EVA AV. 4071</td>\n",
       "      <td>9</td>\n",
       "      <td>Point (99324.54463985 97676.26932409)</td>\n",
       "      <td>-58.47066794</td>\n",
       "      <td>-34.65021673</td>\n",
       "      <td>AUTO-CARGAS</td>\n",
       "      <td>AUTO</td>\n",
       "      <td>CARGAS</td>\n",
       "    </tr>\n",
       "    <tr>\n",
       "      <th>695</th>\n",
       "      <td>2021-0097</td>\n",
       "      <td>1</td>\n",
       "      <td>2021-11-18</td>\n",
       "      <td>2021</td>\n",
       "      <td>11</td>\n",
       "      <td>18</td>\n",
       "      <td>06:10:00</td>\n",
       "      <td>6</td>\n",
       "      <td>PADRE CARLOS MUJICA 709</td>\n",
       "      <td>CALLE</td>\n",
       "      <td>...</td>\n",
       "      <td>709.0</td>\n",
       "      <td>NaN</td>\n",
       "      <td>PADRE CARLOS MUGICA 709</td>\n",
       "      <td>1</td>\n",
       "      <td>Point (107664.16647795 104708.63962087)</td>\n",
       "      <td>-58.37976155</td>\n",
       "      <td>-34.58679619</td>\n",
       "      <td>BICICLETA-AUTO</td>\n",
       "      <td>BICICLETA</td>\n",
       "      <td>AUTO</td>\n",
       "    </tr>\n",
       "  </tbody>\n",
       "</table>\n",
       "<p>3 rows × 21 columns</p>\n",
       "</div>"
      ],
      "text/plain": [
       "            id  n_victimas      fecha  aaaa  mm  dd      hora  hh  \\\n",
       "693  2021-0095           1 2021-12-30  2021  12  30  00:43:00   0   \n",
       "694  2021-0096           1 2021-12-15  2021  12  15  10:30:00  10   \n",
       "695  2021-0097           1 2021-11-18  2021  11  18  06:10:00   6   \n",
       "\n",
       "             lugar_del_hecho tipo_de_calle  ...  altura    cruce  \\\n",
       "693      AV. GAONA Y TERRADA       AVENIDA  ...   365.0  TERRADA   \n",
       "694       AV. EVA PERON 4071       AVENIDA  ...  4071.0      NaN   \n",
       "695  PADRE CARLOS MUJICA 709         CALLE  ...   709.0      NaN   \n",
       "\n",
       "       dirección normalizada comuna                                xy (caba)  \\\n",
       "693      GAONA AV. y TERRADA     11   Point (99116.45492358 101045.23284826)   \n",
       "694      PERON, EVA AV. 4071      9    Point (99324.54463985 97676.26932409)   \n",
       "695  PADRE CARLOS MUGICA 709      1  Point (107664.16647795 104708.63962087)   \n",
       "\n",
       "            pos x         pos y   participantes    victima acusado  \n",
       "693  -58.47293407  -34.61984745     MOTO-CARGAS       MOTO  CARGAS  \n",
       "694  -58.47066794  -34.65021673     AUTO-CARGAS       AUTO  CARGAS  \n",
       "695  -58.37976155  -34.58679619  BICICLETA-AUTO  BICICLETA    AUTO  \n",
       "\n",
       "[3 rows x 21 columns]"
      ]
     },
     "execution_count": 23,
     "metadata": {},
     "output_type": "execute_result"
    }
   ],
   "source": [
    "homicidios_df.tail(3)"
   ]
  },
  {
   "cell_type": "code",
   "execution_count": 26,
   "metadata": {},
   "outputs": [
    {
     "name": "stdout",
     "output_type": "stream",
     "text": [
      "No hay datos para el año 2022\n",
      "No hay datos para el año 2023\n"
     ]
    }
   ],
   "source": [
    "# Convertir la columna 'aaaa' a tipo datetime si no está en ese formato\n",
    "homicidios_df['aaaa'] = pd.to_datetime(homicidios_df['aaaa'])\n",
    "\n",
    "# Filtrar las filas para el año 2022\n",
    "datos_2022 = homicidios_df[homicidios_df['aaaa'].dt.year == 2022]\n",
    "\n",
    "# Filtrar las filas para el año 2023\n",
    "datos_2023 = homicidios_df[homicidios_df['aaaa'].dt.year == 2023]\n",
    "\n",
    "# Verificar si hay datos para los años 2022 y 2023\n",
    "if not datos_2022.empty:\n",
    "    print(\"Hay datos para el año 2022\")\n",
    "else:\n",
    "    print(\"No hay datos para el año 2022\")\n",
    "\n",
    "if not datos_2023.empty:\n",
    "    print(\"Hay datos para el año 2023\")\n",
    "else:\n",
    "    print(\"No hay datos para el año 2023\")\n"
   ]
  }
 ],
 "metadata": {
  "kernelspec": {
   "display_name": "Python 3",
   "language": "python",
   "name": "python3"
  },
  "language_info": {
   "codemirror_mode": {
    "name": "ipython",
    "version": 3
   },
   "file_extension": ".py",
   "mimetype": "text/x-python",
   "name": "python",
   "nbconvert_exporter": "python",
   "pygments_lexer": "ipython3",
   "version": "3.10.11"
  }
 },
 "nbformat": 4,
 "nbformat_minor": 2
}
